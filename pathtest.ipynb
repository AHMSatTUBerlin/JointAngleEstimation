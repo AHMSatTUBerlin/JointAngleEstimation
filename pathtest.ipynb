{
 "cells": [
  {
   "cell_type": "code",
   "execution_count": 1,
   "id": "46d50dbc",
   "metadata": {},
   "outputs": [
    {
     "name": "stdout",
     "output_type": "stream",
     "text": [
      "Frames-feb20_099.2104948.20220220190057\n",
      "Frames-feb20_098.2104948.20220220190011\n"
     ]
    }
   ],
   "source": [
    "import os\n",
    "# path = \"/Users/zhuweiqin/Library/CloudStorage/Box-Box/JointAngleProject/JointAngle_Images/dl005/\"\n",
    "path = \"./content/dltest/\"\n",
    "dir_list = next(os.walk(path))[1] # list folder \n",
    "for folder in dir_list:\n",
    "    print(folder)"
   ]
  },
  {
   "cell_type": "code",
   "execution_count": 11,
   "id": "039f4460",
   "metadata": {},
   "outputs": [],
   "source": [
    "####sort excel\n",
    "import xlwt\n",
    "from xlrd import open_workbook\n",
    "\n",
    "target_column = 0     # This example only has 1 column, and it is 0 indexed\n",
    "\n",
    "book = open_workbook(path+'Frames-feb20_099.2104948.20220220190057/process/P_Frames-feb20_099.2104948.20220220190057.xls')\n",
    "sheet = book.sheets()[0]\n",
    "data = [sheet.row_values(i) for i in range(sheet.nrows)]\n",
    "labels = data[0]    # Don't sort our headers\n",
    "data = data[1:]     # Data begins on the second row\n",
    "data.sort(key=lambda x: x[target_column])\n",
    "\n",
    "bk = xlwt.Workbook()\n",
    "sheet = bk.add_sheet(sheet.name)\n",
    "\n",
    "for idx, label in enumerate(labels):\n",
    "     sheet.write(0, idx, label)\n",
    "\n",
    "for idx_r, row in enumerate(data):\n",
    "    for idx_c, value in enumerate(row):\n",
    "        sheet.write(idx_r+1, idx_c, value)\n",
    "\n",
    "bk.save(path+'Frames-feb20_099.2104948.20220220190057/process/sort-result.xls')"
   ]
  },
  {
   "cell_type": "code",
   "execution_count": 6,
   "id": "0a4de4a6",
   "metadata": {},
   "outputs": [],
   "source": [
    "#!/usr/bin/env python\n",
    "# -*- coding: utf-8 -*-\n",
    "# Copyright (C) 2005 Kiseliov Roman\n",
    "\n",
    "from xlwt import *\n",
    "\n",
    "w = Workbook()\n",
    "ws = w.add_sheet('Hey, Dude')\n",
    "\n",
    "fmts = [\n",
    "    'general',\n",
    "    '0',\n",
    "    '0.00',\n",
    "    '#,##0',\n",
    "    '#,##0.00',\n",
    "    '\"$\"#,##0_);(\"$\"#,##',\n",
    "    '\"$\"#,##0_);[Red](\"$\"#,##',\n",
    "    '\"$\"#,##0.00_);(\"$\"#,##',\n",
    "    '\"$\"#,##0.00_);[Red](\"$\"#,##',\n",
    "    '0%',\n",
    "    '0.00%',\n",
    "    '0.00E+00',\n",
    "    '# ?/?',\n",
    "    '# ??/??',\n",
    "    'M/D/YY',\n",
    "    'D-MMM-YY',\n",
    "    'D-MMM',\n",
    "    'MMM-YY',\n",
    "    'h:mm AM/PM',\n",
    "    'h:mm:ss AM/PM',\n",
    "    'h:mm',\n",
    "    'h:mm:ss',\n",
    "    'M/D/YY h:mm',\n",
    "    '_(#,##0_);(#,##0)',\n",
    "    '_(#,##0_);[Red](#,##0)',\n",
    "    '_(#,##0.00_);(#,##0.00)',\n",
    "    '_(#,##0.00_);[Red](#,##0.00)',\n",
    "    '_(\"$\"* #,##0_);_(\"$\"* (#,##0);_(\"$\"* \"-\"_);_(@_)',\n",
    "    '_(* #,##0_);_(* (#,##0);_(* \"-\"_);_(@_)',\n",
    "    '_(\"$\"* #,##0.00_);_(\"$\"* (#,##0.00);_(\"$\"* \"-\"??_);_(@_)',\n",
    "    '_(* #,##0.00_);_(* (#,##0.00);_(* \"-\"??_);_(@_)',\n",
    "    'mm:ss',\n",
    "    '[h]:mm:ss',\n",
    "    'mm:ss.0',\n",
    "    '##0.0E+0',\n",
    "    '@'\n",
    "]\n",
    "\n",
    "i = 0\n",
    "for fmt in fmts:\n",
    "    ws.write(i, 0, fmt)\n",
    "\n",
    "    style = XFStyle()\n",
    "    style.num_format_str = fmt\n",
    "\n",
    "    ws.write(i, 4, -1278.9078, style)\n",
    "\n",
    "    i += 1\n",
    "\n",
    "w.save('num_formats.xls')"
   ]
  },
  {
   "cell_type": "code",
   "execution_count": null,
   "id": "19373765",
   "metadata": {},
   "outputs": [],
   "source": []
  }
 ],
 "metadata": {
  "kernelspec": {
   "display_name": "Python 3 (ipykernel)",
   "language": "python",
   "name": "python3"
  },
  "language_info": {
   "codemirror_mode": {
    "name": "ipython",
    "version": 3
   },
   "file_extension": ".py",
   "mimetype": "text/x-python",
   "name": "python",
   "nbconvert_exporter": "python",
   "pygments_lexer": "ipython3",
   "version": "3.8.12"
  }
 },
 "nbformat": 4,
 "nbformat_minor": 5
}
