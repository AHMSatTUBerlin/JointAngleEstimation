{
 "cells": [
  {
   "cell_type": "code",
   "execution_count": 5,
   "id": "4366c3b2",
   "metadata": {},
   "outputs": [
    {
     "name": "stdout",
     "output_type": "stream",
     "text": [
      "Files and directories in ' ./dl007/shoflex/ ' :\n",
      "['dl007_shoflex_005.2104948.20220314125625.avi', 'dl007_shoflex_010.2104948.20220314125934.avi', 'dl007_shoflex_023.2104948.20220314130840.avi', 'dl007_shoflex_021.2104948.20220314130723.avi', 'dl007_shoflex_016.2104948.20220314130352.avi', 'dl007_shoflex_020.2104948.20220314130641.avi', 'dl007_shoflex_022.2104948.20220314130803.avi', 'dl007_shoflex_007.2104948.20220314125745.avi', 'dl007_shoflex_006.2104948.20220314125704.avi', 'dl007_shoflex_025.2104948.20220314131002.avi', 'dl007_shoflex_014.2104948.20220314130234.avi', 'dl007_shoflex_009.2104948.20220314125857.avi', 'dl007_shoflex_011.2104948.20220314130011.avi', 'dl007_shoflex_012.2104948.20220314130049.avi', 'dl007_shoflex_003.2104948.20220314125508.avi', 'dl007_shoflex_004.2104948.20220314125548.avi', 'dl007_shoflex_024.2104948.20220314130924.avi', 'dl007_shoflex_017.2104948.20220314130427.avi', 'dl007_shoflex_019.2104948.20220314130558.avi', 'dl007_shoflex_002.2104948.20220314125429.avi', 'dl007_shoflex_001.2104948.20220314125343.avi', 'dl007_shoflex_018.2104948.20220314130504.avi', 'dl007_shoflex_015.2104948.20220314130312.avi', 'dl007_shoflex_008.2104948.20220314125822.avi', 'dl007_shoflex_013.2104948.20220314130126.avi']\n"
     ]
    }
   ],
   "source": [
    "import cv2\n",
    "import os\n",
    "\n",
    "path = \"./dl007/shoflex/\"\n",
    "dir_list = os.listdir(path)\n",
    "print(\"Files and directories in '\", path, \"' :\")\n",
    "video_files = list(filter(lambda x: '.avi' in x, dir_list))\n",
    "print(video_files)"
   ]
  },
  {
   "cell_type": "code",
   "execution_count": 6,
   "id": "6adec098",
   "metadata": {
    "scrolled": true
   },
   "outputs": [
    {
     "name": "stdout",
     "output_type": "stream",
     "text": [
      "dl007_shoflex_005.2104948.20220314125625.avi\n",
      "False\n",
      "dl007_shoflex_010.2104948.20220314125934.avi\n",
      "False\n",
      "dl007_shoflex_023.2104948.20220314130840.avi\n",
      "False\n",
      "dl007_shoflex_021.2104948.20220314130723.avi\n",
      "False\n",
      "dl007_shoflex_016.2104948.20220314130352.avi\n",
      "False\n",
      "dl007_shoflex_020.2104948.20220314130641.avi\n",
      "False\n",
      "dl007_shoflex_022.2104948.20220314130803.avi\n",
      "False\n",
      "dl007_shoflex_007.2104948.20220314125745.avi\n",
      "False\n",
      "dl007_shoflex_006.2104948.20220314125704.avi\n",
      "False\n",
      "dl007_shoflex_025.2104948.20220314131002.avi\n",
      "False\n",
      "dl007_shoflex_014.2104948.20220314130234.avi\n",
      "False\n",
      "dl007_shoflex_009.2104948.20220314125857.avi\n",
      "False\n",
      "dl007_shoflex_011.2104948.20220314130011.avi\n",
      "False\n",
      "dl007_shoflex_012.2104948.20220314130049.avi\n",
      "False\n",
      "dl007_shoflex_003.2104948.20220314125508.avi\n",
      "False\n",
      "dl007_shoflex_004.2104948.20220314125548.avi\n",
      "False\n",
      "dl007_shoflex_024.2104948.20220314130924.avi\n",
      "False\n",
      "dl007_shoflex_017.2104948.20220314130427.avi\n",
      "False\n",
      "dl007_shoflex_019.2104948.20220314130558.avi\n",
      "False\n",
      "dl007_shoflex_002.2104948.20220314125429.avi\n",
      "False\n",
      "dl007_shoflex_001.2104948.20220314125343.avi\n",
      "False\n",
      "dl007_shoflex_018.2104948.20220314130504.avi\n",
      "False\n",
      "dl007_shoflex_015.2104948.20220314130312.avi\n",
      "False\n",
      "dl007_shoflex_008.2104948.20220314125822.avi\n",
      "False\n",
      "dl007_shoflex_013.2104948.20220314130126.avi\n",
      "False\n"
     ]
    }
   ],
   "source": [
    "for video_name in video_files:\n",
    "    print (video_name)\n",
    "    isFile = os.path.isdir(path+\"Frames-\"+video_name[:-4])\n",
    "    print(isFile)\n",
    "    if not isFile:\n",
    "        os.mkdir(path+\"Frames-\"+video_name[:-4])\n",
    "        \n",
    "        vidcap = cv2.VideoCapture(path + video_name)\n",
    "        success,image = vidcap.read()\n",
    "        count = 0\n",
    "        while success:\n",
    "            cv2.imwrite(path+\"Frames-\"+video_name[:-4]+\"/%d.jpg\" % count, image)     # save frame as JPEG file      \n",
    "            success,image = vidcap.read()\n",
    "#             print('Read a new frame: ', success)\n",
    "            count += 1"
   ]
  },
  {
   "cell_type": "code",
   "execution_count": null,
   "id": "77d9e440",
   "metadata": {},
   "outputs": [],
   "source": []
  }
 ],
 "metadata": {
  "kernelspec": {
   "display_name": "Python 3",
   "language": "python",
   "name": "python3"
  },
  "language_info": {
   "codemirror_mode": {
    "name": "ipython",
    "version": 3
   },
   "file_extension": ".py",
   "mimetype": "text/x-python",
   "name": "python",
   "nbconvert_exporter": "python",
   "pygments_lexer": "ipython3",
   "version": "3.6.9"
  }
 },
 "nbformat": 4,
 "nbformat_minor": 5
}
